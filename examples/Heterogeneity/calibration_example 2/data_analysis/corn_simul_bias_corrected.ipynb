{
 "cells": [
  {
   "cell_type": "code",
   "execution_count": null,
   "id": "f65b0cd6-6e7c-4c6d-a002-3db89c1fdce6",
   "metadata": {},
   "outputs": [],
   "source": [
    "#!pip install ordered-set\n",
    "#!pip install git+https://github.com/wndlovu/aquacrop.git\n",
    "#!pip install aquacrop==2.2.3\n",
    "#!pip install numba==0.55"
   ]
  },
  {
   "cell_type": "code",
   "execution_count": null,
   "id": "29bdcaad-b8ac-4797-9bc1-09574c3be75f",
   "metadata": {},
   "outputs": [],
   "source": []
  },
  {
   "cell_type": "code",
   "execution_count": 1,
   "id": "e730182e-b0e7-47a0-b30d-3ebc688d4185",
   "metadata": {
    "tags": []
   },
   "outputs": [],
   "source": [
    "import matplotlib.pyplot as plt\n",
    "import statsmodels.api as sm\n",
    "from statsmodels.tools.eval_measures import rmse\n",
    "from aquacrop.utils import prepare_weather, get_filepath\n",
    "from aquacrop import AquaCropModel, Soil, Crop, InitialWaterContent, IrrigationManagement\n",
    "\n",
    "\n",
    "import pandas as pd\n",
    "import matplotlib\n",
    "import statsmodels\n",
    "import matplotlib.pyplot as plt\n",
    "import seaborn as sns\n",
    "import numpy as np\n",
    "import datetime\n",
    "import time\n",
    "import math\n",
    "import pickle \n",
    "from sklearn.linear_model import LinearRegression\n",
    "from sklearn.metrics import r2_score, mean_squared_error, mean_absolute_error\n",
    "import sklearn.metrics as metrics\n",
    "#from pyswarm import pso\n",
    "import os\n",
    "from os import chdir, getcwd\n",
    "import statistics as stats\n",
    "import scipy\n",
    "from scipy import stats\n",
    "import hydroeval as he\n",
    "import pyswarms as ps\n",
    "from pyswarm import pso\n",
    "import random\n",
    "from ordered_set import OrderedSet\n",
    "import warnings\n",
    "warnings.filterwarnings('ignore')\n",
    "\n",
    "\n",
    "os.chdir('/home/jupyter-wndlovu/calibration_example/') # change working directory\n",
    "\n",
    "wd=getcwd()\n",
    "\n",
    "from src.soils import *\n",
    "from src.calibration_old import *"
   ]
  },
  {
   "cell_type": "code",
   "execution_count": 2,
   "id": "6307b6b9-2058-4f4c-b946-e04f9f27c219",
   "metadata": {
    "tags": []
   },
   "outputs": [],
   "source": [
    "with open(wd + '/data/input_dict.pickle', 'rb') as input_data: \n",
    "    input_dict = pickle.load(input_data) \n",
    "\n",
    "\n",
    "\n",
    "planting_date = pd.read_csv(wd + '/data/CropPlantingDate_GMD4_WNdlovu_072423.csv')\n",
    "bias_correction = pd.read_csv(wd + '/data/CropBiasCorrectionParams_GMD4_Wndlovu_062424.csv')\n",
    "\n",
    "\n",
    "\n",
    "defaults = pd.read_csv(wd + '/data/CalibrationCropDefaultParams_GMD4_Wndlovu_062424.csv') # default model params\n",
    "defaults = defaults[defaults[\"Crop\"] == 'Maize']\n",
    "\n",
    "\n",
    "irrig_crop = '1' # code for irrigated corn\n",
    "irrig_crop_dict = {k:v for (k,v) in input_dict.items() if irrig_crop in k}\n",
    "\n",
    "calibration = list(irrig_crop_dict.items())\n",
    "#\n",
    "\n",
    "# getting the different datasets\n",
    "gridmet = pd.concat([sublist[1][0] for sublist in calibration]) # data stored in nested list with 0 having the \n",
    "et = pd.concat([sublist[1][1] for sublist in calibration])\n",
    "soil_irrig = pd.concat(SoilCompart([sublist[1][2] for sublist in calibration]))\n",
    "\n",
    "\n",
    "\n",
    "planting_date = planting_date[planting_date[\"Crop\"] == 'Maize']\n",
    "planting_date['pdate'] = pd.to_datetime(planting_date['pdate'], format='%Y-%m-%d')\n",
    "planting_date['har'] = pd.to_datetime(planting_date['har'], format='%Y-%m-%d')\n",
    "planting_date['late_har'] = pd.to_datetime(planting_date['late_har'], format='%Y-%m-%d')\n",
    "\n",
    "# Convert the 'date' column back to a new column in YMD format\n",
    "planting_date['pdate'] = planting_date['pdate'].dt.strftime('%Y/%m/%d')\n",
    "planting_date['har'] = planting_date['har'].dt.strftime('%Y/%m/%d')\n",
    "planting_date['late_har'] = planting_date['late_har'].dt.strftime('%Y/%m/%d')\n",
    "\n",
    "# add the ccx to cgc ratio for corn\n",
    "planting_date['canopy'] = 0.96/0.012494 # change for different crops"
   ]
  },
  {
   "cell_type": "markdown",
   "id": "315379ae-8107-47e4-94da-1a24a0147c4c",
   "metadata": {
    "tags": []
   },
   "source": [
    "# Run one unique id for one year"
   ]
  },
  {
   "cell_type": "code",
   "execution_count": 4,
   "id": "7214d01d-0d6c-4c87-b95c-f8ba590737d2",
   "metadata": {
    "tags": []
   },
   "outputs": [
    {
     "data": {
      "text/html": [
       "<div>\n",
       "<style scoped>\n",
       "    .dataframe tbody tr th:only-of-type {\n",
       "        vertical-align: middle;\n",
       "    }\n",
       "\n",
       "    .dataframe tbody tr th {\n",
       "        vertical-align: top;\n",
       "    }\n",
       "\n",
       "    .dataframe thead th {\n",
       "        text-align: right;\n",
       "    }\n",
       "</style>\n",
       "<table border=\"1\" class=\"dataframe\">\n",
       "  <thead>\n",
       "    <tr style=\"text-align: right;\">\n",
       "      <th></th>\n",
       "      <th>Season</th>\n",
       "      <th>crop Type</th>\n",
       "      <th>Harvest Date (YYYY/MM/DD)</th>\n",
       "      <th>Harvest Date (Step)</th>\n",
       "      <th>Calib Yield (t/ha)</th>\n",
       "      <th>Calib Irrigation (mm)</th>\n",
       "      <th>USDA Harvest Date</th>\n",
       "      <th>Year</th>\n",
       "      <th>County</th>\n",
       "      <th>Bias Corrected Yield (t/ha)</th>\n",
       "      <th>Bias Corrected Irrigation (mm</th>\n",
       "    </tr>\n",
       "  </thead>\n",
       "  <tbody>\n",
       "    <tr>\n",
       "      <th>0</th>\n",
       "      <td>0</td>\n",
       "      <td>MaizeGDD</td>\n",
       "      <td>2006-09-09</td>\n",
       "      <td>250</td>\n",
       "      <td>11.620113</td>\n",
       "      <td>396.5</td>\n",
       "      <td>2006/09/25</td>\n",
       "      <td>2006</td>\n",
       "      <td>Cheyenne</td>\n",
       "      <td>12.625826</td>\n",
       "      <td>338.35975</td>\n",
       "    </tr>\n",
       "  </tbody>\n",
       "</table>\n",
       "</div>"
      ],
      "text/plain": [
       "   Season crop Type Harvest Date (YYYY/MM/DD)  Harvest Date (Step)  \\\n",
       "0       0  MaizeGDD                2006-09-09                  250   \n",
       "\n",
       "   Calib Yield (t/ha)  Calib Irrigation (mm) USDA Harvest Date  Year  \\\n",
       "0           11.620113                  396.5        2006/09/25  2006   \n",
       "\n",
       "     County  Bias Corrected Yield (t/ha)  Bias Corrected Irrigation (mm  \n",
       "0  Cheyenne                    12.625826                      338.35975  "
      ]
     },
     "execution_count": 4,
     "metadata": {},
     "output_type": "execute_result"
    }
   ],
   "source": [
    "# run model for Cheyenne County (unique id) for one year\n",
    "gridmet_2007 = gridmet[(gridmet['Year'] == 2006) & (gridmet['crop_mn_codeyear'] == '1_Cheyenne')]\n",
    "\n",
    "example_df = RunModelBiasCorrected(defaults, planting_date, gridmet_2007, soil_irrig,  bias_correction, 4, 11)\n",
    "example_df"
   ]
  },
  {
   "cell_type": "code",
   "execution_count": null,
   "id": "408be6db-63c1-4ce3-80c6-a49e8c1817c4",
   "metadata": {},
   "outputs": [],
   "source": []
  }
 ],
 "metadata": {
  "kernelspec": {
   "display_name": "eggs",
   "language": "python",
   "name": "eggs"
  },
  "language_info": {
   "codemirror_mode": {
    "name": "ipython",
    "version": 3
   },
   "file_extension": ".py",
   "mimetype": "text/x-python",
   "name": "python",
   "nbconvert_exporter": "python",
   "pygments_lexer": "ipython3",
   "version": "3.9.9"
  }
 },
 "nbformat": 4,
 "nbformat_minor": 5
}
